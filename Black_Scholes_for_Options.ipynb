{
  "nbformat": 4,
  "nbformat_minor": 0,
  "metadata": {
    "colab": {
      "name": "Black-Scholes_for_Options.ipynb",
      "provenance": [],
      "authorship_tag": "ABX9TyPS1QBIZSvRbO/1cDqKPBZz",
      "include_colab_link": true
    },
    "kernelspec": {
      "name": "python3",
      "display_name": "Python 3"
    },
    "language_info": {
      "name": "python"
    }
  },
  "cells": [
    {
      "cell_type": "markdown",
      "metadata": {
        "id": "view-in-github",
        "colab_type": "text"
      },
      "source": [
        "<a href=\"https://colab.research.google.com/github/lek-bon/finance_theory/blob/main/Black_Scholes_for_Options.ipynb\" target=\"_parent\"><img src=\"https://colab.research.google.com/assets/colab-badge.svg\" alt=\"Open In Colab\"/></a>"
      ]
    },
    {
      "cell_type": "code",
      "execution_count": 4,
      "metadata": {
        "colab": {
          "base_uri": "https://localhost:8080/"
        },
        "id": "KOqkC00ZkuRK",
        "outputId": "1239b6e1-c835-4d80-9d53-212933ed700f"
      },
      "outputs": [
        {
          "output_type": "stream",
          "name": "stdout",
          "text": [
            "16.73413358238666\n"
          ]
        }
      ],
      "source": [
        "import numpy as np\n",
        "import scipy.stats\n",
        "\n",
        "s0 = 100\n",
        "X = 100\n",
        "r = 0.1\n",
        "v = 0.3\n",
        "T = 1\n",
        "\n",
        "d1 = (np.log(s0 / X) + (r + 0.5 * v ** 2)) / np.sqrt(T) / v\n",
        "d2 = d1 - np.sqrt(T) * v\n",
        "C = s0 * scipy.stats.norm.cdf(d1) - X * np.exp(-r * T) * scipy.stats.norm.cdf(d2)\n",
        "print(C)"
      ]
    }
  ]
}