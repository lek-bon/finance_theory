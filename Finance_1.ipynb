{
  "nbformat": 4,
  "nbformat_minor": 0,
  "metadata": {
    "colab": {
      "name": "Finance_1.ipynb",
      "provenance": [],
      "authorship_tag": "ABX9TyOY8BeiIHATqk3wHUqkI+xB",
      "include_colab_link": true
    },
    "kernelspec": {
      "name": "python3",
      "display_name": "Python 3"
    },
    "language_info": {
      "name": "python"
    }
  },
  "cells": [
    {
      "cell_type": "markdown",
      "metadata": {
        "id": "view-in-github",
        "colab_type": "text"
      },
      "source": [
        "<a href=\"https://colab.research.google.com/github/lek-bon/finance_theory/blob/main/Finance_1.ipynb\" target=\"_parent\"><img src=\"https://colab.research.google.com/assets/colab-badge.svg\" alt=\"Open In Colab\"/></a>"
      ]
    },
    {
      "cell_type": "code",
      "execution_count": 9,
      "metadata": {
        "colab": {
          "base_uri": "https://localhost:8080/"
        },
        "id": "VFjlP8Cnh-Ck",
        "outputId": "30088d8a-2dc5-4851-f009-275a2f7d3192"
      },
      "outputs": [
        {
          "output_type": "stream",
          "name": "stdout",
          "text": [
            "C = 16.842139906771443\n",
            "P= 7.150579333641709\n"
          ]
        }
      ],
      "source": [
        "import numpy as np\n",
        "\n",
        "S0 = 100\n",
        "X = 100\n",
        "r = 0.1\n",
        "v = 0.3\n",
        "T = 1\n",
        "\n",
        "N = 100000 \n",
        "Z = np.random.normal(size = (N, 1))\n",
        "S = S0 * np.exp((r - 0.5 * v ** 2) * T + v * np.sqrt(T) * Z)\n",
        "C = np.sum(S[S > X] - X) / N / np.exp(r * T)\n",
        "P = np.sum(X - S[X > S]) / N / np.exp(r * T)\n",
        "print('C =',C)\n",
        "print('P=', P)"
      ]
    }
  ]
}